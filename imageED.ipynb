{
  "nbformat": 4,
  "nbformat_minor": 0,
  "metadata": {
    "colab": {
      "provenance": []
    },
    "kernelspec": {
      "name": "python3",
      "display_name": "Python 3"
    },
    "language_info": {
      "name": "python"
    }
  },
  "cells": [
    {
      "cell_type": "code",
      "execution_count": 1,
      "metadata": {
        "colab": {
          "base_uri": "https://localhost:8080/"
        },
        "id": "wJ3U7dq9jczo",
        "outputId": "bf837917-3e60-4171-e984-4745f3f09baf"
      },
      "outputs": [
        {
          "output_type": "stream",
          "name": "stdout",
          "text": [
            "Requirement already satisfied: Pillow in /usr/local/lib/python3.10/dist-packages (9.4.0)\n"
          ]
        }
      ],
      "source": [
        "pip install Pillow\n"
      ]
    },
    {
      "cell_type": "code",
      "source": [
        "from PIL import Image\n",
        "import numpy as np\n",
        "\n",
        "def encrypt_image(input_image_path, output_image_path, key):\n",
        "    # Open the image\n",
        "    image = Image.open(input_image_path)\n",
        "    image_data = np.array(image)\n",
        "\n",
        "    # Encrypt the image by applying a simple mathematical operation to each pixel\n",
        "    encrypted_data = (image_data + key) % 256  # Modulo 256 to ensure pixel values are in the range [0, 255]\n",
        "    encrypted_image = Image.fromarray(np.uint8(encrypted_data))\n",
        "\n",
        "    # Save the encrypted image\n",
        "    encrypted_image.save(output_image_path)\n",
        "    print(f\"Image encrypted and saved as {output_image_path}\")\n",
        "\n",
        "\n",
        "def decrypt_image(input_image_path, output_image_path, key):\n",
        "    # Open the encrypted image\n",
        "    image = Image.open(input_image_path)\n",
        "    image_data = np.array(image)\n",
        "\n",
        "    # Decrypt the image by reversing the mathematical operation\n",
        "    decrypted_data = (image_data - key) % 256  # Modulo 256 to ensure pixel values are in the range [0, 255]\n",
        "    decrypted_image = Image.fromarray(np.uint8(decrypted_data))\n",
        "\n",
        "    # Save the decrypted image\n",
        "    decrypted_image.save(output_image_path)\n",
        "    print(f\"Image decrypted and saved as {output_image_path}\")\n",
        "\n",
        "\n",
        "# Usage example\n",
        "input_image_path = 'input.jpg'  # Replace with your image path\n",
        "encrypted_image_path = 'encrypted_image.png'\n",
        "decrypted_image_path = 'decrypted_image.png'\n",
        "key = 50  # Simple key for encryption and decryption\n",
        "\n",
        "# Encrypt the image\n",
        "encrypt_image(input_image_path, encrypted_image_path, key)\n",
        "\n",
        "# Decrypt the image\n",
        "decrypt_image(encrypted_image_path, decrypted_image_path, key)\n"
      ],
      "metadata": {
        "colab": {
          "base_uri": "https://localhost:8080/",
          "height": 356
        },
        "id": "KRIdImQ4k34G",
        "outputId": "3fe3b5ff-886e-4360-ad92-b942414ce0a6"
      },
      "execution_count": 6,
      "outputs": [
        {
          "output_type": "error",
          "ename": "FileNotFoundError",
          "evalue": "[Errno 2] No such file or directory: 'input.jpg'",
          "traceback": [
            "\u001b[0;31m---------------------------------------------------------------------------\u001b[0m",
            "\u001b[0;31mFileNotFoundError\u001b[0m                         Traceback (most recent call last)",
            "\u001b[0;32m<ipython-input-6-1b7773e9f393>\u001b[0m in \u001b[0;36m<cell line: 39>\u001b[0;34m()\u001b[0m\n\u001b[1;32m     37\u001b[0m \u001b[0;34m\u001b[0m\u001b[0m\n\u001b[1;32m     38\u001b[0m \u001b[0;31m# Encrypt the image\u001b[0m\u001b[0;34m\u001b[0m\u001b[0;34m\u001b[0m\u001b[0m\n\u001b[0;32m---> 39\u001b[0;31m \u001b[0mencrypt_image\u001b[0m\u001b[0;34m(\u001b[0m\u001b[0minput_image_path\u001b[0m\u001b[0;34m,\u001b[0m \u001b[0mencrypted_image_path\u001b[0m\u001b[0;34m,\u001b[0m \u001b[0mkey\u001b[0m\u001b[0;34m)\u001b[0m\u001b[0;34m\u001b[0m\u001b[0;34m\u001b[0m\u001b[0m\n\u001b[0m\u001b[1;32m     40\u001b[0m \u001b[0;34m\u001b[0m\u001b[0m\n\u001b[1;32m     41\u001b[0m \u001b[0;31m# Decrypt the image\u001b[0m\u001b[0;34m\u001b[0m\u001b[0;34m\u001b[0m\u001b[0m\n",
            "\u001b[0;32m<ipython-input-6-1b7773e9f393>\u001b[0m in \u001b[0;36mencrypt_image\u001b[0;34m(input_image_path, output_image_path, key)\u001b[0m\n\u001b[1;32m      4\u001b[0m \u001b[0;32mdef\u001b[0m \u001b[0mencrypt_image\u001b[0m\u001b[0;34m(\u001b[0m\u001b[0minput_image_path\u001b[0m\u001b[0;34m,\u001b[0m \u001b[0moutput_image_path\u001b[0m\u001b[0;34m,\u001b[0m \u001b[0mkey\u001b[0m\u001b[0;34m)\u001b[0m\u001b[0;34m:\u001b[0m\u001b[0;34m\u001b[0m\u001b[0;34m\u001b[0m\u001b[0m\n\u001b[1;32m      5\u001b[0m     \u001b[0;31m# Open the image\u001b[0m\u001b[0;34m\u001b[0m\u001b[0;34m\u001b[0m\u001b[0m\n\u001b[0;32m----> 6\u001b[0;31m     \u001b[0mimage\u001b[0m \u001b[0;34m=\u001b[0m \u001b[0mImage\u001b[0m\u001b[0;34m.\u001b[0m\u001b[0mopen\u001b[0m\u001b[0;34m(\u001b[0m\u001b[0minput_image_path\u001b[0m\u001b[0;34m)\u001b[0m\u001b[0;34m\u001b[0m\u001b[0;34m\u001b[0m\u001b[0m\n\u001b[0m\u001b[1;32m      7\u001b[0m     \u001b[0mimage_data\u001b[0m \u001b[0;34m=\u001b[0m \u001b[0mnp\u001b[0m\u001b[0;34m.\u001b[0m\u001b[0marray\u001b[0m\u001b[0;34m(\u001b[0m\u001b[0mimage\u001b[0m\u001b[0;34m)\u001b[0m\u001b[0;34m\u001b[0m\u001b[0;34m\u001b[0m\u001b[0m\n\u001b[1;32m      8\u001b[0m \u001b[0;34m\u001b[0m\u001b[0m\n",
            "\u001b[0;32m/usr/local/lib/python3.10/dist-packages/PIL/Image.py\u001b[0m in \u001b[0;36mopen\u001b[0;34m(fp, mode, formats)\u001b[0m\n\u001b[1;32m   3225\u001b[0m \u001b[0;34m\u001b[0m\u001b[0m\n\u001b[1;32m   3226\u001b[0m     \u001b[0;32mif\u001b[0m \u001b[0mfilename\u001b[0m\u001b[0;34m:\u001b[0m\u001b[0;34m\u001b[0m\u001b[0;34m\u001b[0m\u001b[0m\n\u001b[0;32m-> 3227\u001b[0;31m         \u001b[0mfp\u001b[0m \u001b[0;34m=\u001b[0m \u001b[0mbuiltins\u001b[0m\u001b[0;34m.\u001b[0m\u001b[0mopen\u001b[0m\u001b[0;34m(\u001b[0m\u001b[0mfilename\u001b[0m\u001b[0;34m,\u001b[0m \u001b[0;34m\"rb\"\u001b[0m\u001b[0;34m)\u001b[0m\u001b[0;34m\u001b[0m\u001b[0;34m\u001b[0m\u001b[0m\n\u001b[0m\u001b[1;32m   3228\u001b[0m         \u001b[0mexclusive_fp\u001b[0m \u001b[0;34m=\u001b[0m \u001b[0;32mTrue\u001b[0m\u001b[0;34m\u001b[0m\u001b[0;34m\u001b[0m\u001b[0m\n\u001b[1;32m   3229\u001b[0m \u001b[0;34m\u001b[0m\u001b[0m\n",
            "\u001b[0;31mFileNotFoundError\u001b[0m: [Errno 2] No such file or directory: 'input.jpg'"
          ]
        }
      ]
    },
    {
      "cell_type": "code",
      "source": [
        "input_image_path = 'path/to/your/image/input.jpg'\n"
      ],
      "metadata": {
        "id": "AzxayvGKqRHT"
      },
      "execution_count": 7,
      "outputs": []
    },
    {
      "cell_type": "code",
      "source": [
        "import os\n",
        "print(os.getcwd())\n"
      ],
      "metadata": {
        "colab": {
          "base_uri": "https://localhost:8080/"
        },
        "id": "yXhmFOBJqXWa",
        "outputId": "fa813041-eeb4-4c63-bcc7-f8cac9783470"
      },
      "execution_count": 8,
      "outputs": [
        {
          "output_type": "stream",
          "name": "stdout",
          "text": [
            "/content\n"
          ]
        }
      ]
    },
    {
      "cell_type": "code",
      "source": [
        "from PIL import Image\n",
        "import numpy as np\n",
        "\n",
        "def encrypt_image(input_image_path, output_image_path, key):\n",
        "    try:\n",
        "        # Open the image\n",
        "        image = Image.open(input_image_path)\n",
        "        image_data = np.array(image)\n",
        "\n",
        "        # Encrypt the image by applying a simple mathematical operation to each pixel\n",
        "        encrypted_data = (image_data + key) % 256  # Modulo 256 to ensure pixel values are in the range [0, 255]\n",
        "        encrypted_image = Image.fromarray(np.uint8(encrypted_data))\n",
        "\n",
        "        # Save the encrypted image\n",
        "        encrypted_image.save(output_image_path)\n",
        "        print(f\"Image encrypted and saved as {output_image_path}\")\n",
        "\n",
        "    except FileNotFoundError:\n",
        "        print(f\"Error: The file '{input_image_path}' was not found.\")\n",
        "    except Exception as e:\n",
        "        print(f\"An error occurred: {e}\")\n",
        "\n",
        "def decrypt_image(input_image_path, output_image_path, key):\n",
        "    try:\n",
        "        # Open the encrypted image\n",
        "        image = Image.open(input_image_path)\n",
        "        image_data = np.array(image)\n",
        "\n",
        "        # Decrypt the image by reversing the mathematical operation\n",
        "        decrypted_data = (image_data - key) % 256  # Modulo 256 to ensure pixel values are in the range [0, 255]\n",
        "        decrypted_image = Image.fromarray(np.uint8(decrypted_data))\n",
        "\n",
        "        # Save the decrypted image\n",
        "        decrypted_image.save(output_image_path)\n",
        "        print(f\"Image decrypted and saved as {output_image_path}\")\n",
        "\n",
        "    except FileNotFoundError:\n",
        "        print(f\"Error: The file '{input_image_path}' was not found.\")\n",
        "    except Exception as e:\n",
        "        print(f\"An error occurred: {e}\")\n",
        "\n",
        "# Usage example\n",
        "input_image_path = '/content/mercedes_amg_g63_w463_gelendvagen_103509_3840x2160.jpg'  # Replace with the correct path to your image file\n",
        "encrypted_image_path = 'encrypted_image.png'\n",
        "decrypted_image_path = 'decrypted_image.png'\n",
        "key = 50  # Simple key for encryption and decryption\n",
        "\n",
        "# Encrypt the image\n",
        "encrypt_image(input_image_path, encrypted_image_path, key)\n",
        "\n",
        "# Decrypt the image\n",
        "decrypt_image(encrypted_image_path, decrypted_image_path, key)\n",
        "\n"
      ],
      "metadata": {
        "colab": {
          "base_uri": "https://localhost:8080/"
        },
        "id": "j9rraZQcqbr9",
        "outputId": "516d4926-2bf0-43d7-d0c4-a183ae9f7b26"
      },
      "execution_count": 12,
      "outputs": [
        {
          "output_type": "stream",
          "name": "stdout",
          "text": [
            "Image encrypted and saved as encrypted_image.png\n",
            "Image decrypted and saved as decrypted_image.png\n"
          ]
        }
      ]
    }
  ]
}